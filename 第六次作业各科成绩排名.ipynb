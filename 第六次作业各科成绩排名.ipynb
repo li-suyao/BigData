{
 "cells": [
  {
   "cell_type": "code",
   "execution_count": 1,
   "id": "2e2a3166",
   "metadata": {},
   "outputs": [
    {
     "data": {
      "text/plain": [
       "[('何柃逸', 743), ('唐雯婕', 743), ('孙思', 719), ('刘欢', 716), ('唐杰', 715)]"
      ]
     },
     "execution_count": 1,
     "metadata": {},
     "output_type": "execute_result"
    }
   ],
   "source": [
    "import matplotlib\n",
    "matplotlib.use('TkAgg')\n",
    "import matplotlib.pyplot as plt\n",
    "from datascience import *\n",
    "\n",
    "data1 = Table.read_table('./bigdata_test/20211105-utf-8.csv')\n",
    "data2 = Table.read_table('./bigdata_test/20211106-utf-8.csv')\n",
    "data3 = Table.read_table('./bigdata_test/20211107-utf-8.csv')\n",
    "data4 = Table.read_table('./bigdata_test/20211108-utf-8.csv')\n",
    "data5 = Table.read_table('./bigdata_test/20211109-utf-8.csv')\n",
    "data6 = Table.read_table('./bigdata_test/20211109-1-utf-8.csv')\n",
    "data7 = Table.read_table('./bigdata_test/20211110-utf-8.csv')\n",
    "\n",
    "table = {}\n",
    "\n",
    "def map(name,path):\n",
    "    a = path.where('姓名',name)\n",
    "    table[a.column(2).item(0)] = {'语文':a.column(3).item(0),'数学':a.column(4).item(0),'英语':a.column(5).item(0),'物理':a.column(6).item(0),'化学':a.column(7).item(0),'生物':a.column(8).item(0),'理综':a.column(9).item(0),'总分':a.column(10).item(0),}\n",
    "\n",
    "for i in range(64):\n",
    "    map(data1[2][i],data1)\n",
    "\n",
    "for i in table.keys():\n",
    "    a = data2.where('姓名',i)\n",
    "    b = data3.where('姓名',i)\n",
    "    c = data4.where('姓名',i)\n",
    "    d = data5.where('姓名',i)\n",
    "    e = data6.where('姓名',i)\n",
    "    f = data7.where('姓名',i)\n",
    "    \n",
    "    table[i]['语文'] = table[i]['语文'] + a.column(3).item(0) + b.column(3).item(0) + c.column(3).item(0) + d.column(3).item(0) + e.column(3).item(0) + f.column(3).item(0)\n",
    "    table[i]['数学'] = table[i]['数学'] + a.column(4).item(0) + b.column(4).item(0) + c.column(4).item(0) + d.column(4).item(0) + e.column(4).item(0) + f.column(4).item(0)\n",
    "    table[i]['英语'] = table[i]['英语'] + a.column(5).item(0) + b.column(5).item(0) + c.column(5).item(0) + d.column(5).item(0) + e.column(5).item(0) + f.column(5).item(0)\n",
    "    table[i]['物理'] = table[i]['物理'] + a.column(6).item(0) + b.column(6).item(0) + c.column(6).item(0) + d.column(6).item(0) + e.column(6).item(0) + f.column(6).item(0)\n",
    "    table[i]['化学'] = table[i]['化学'] + a.column(7).item(0) + b.column(7).item(0) + c.column(7).item(0) + d.column(7).item(0) + e.column(7).item(0) + f.column(7).item(0)\n",
    "    table[i]['生物'] = table[i]['生物'] + a.column(8).item(0) + b.column(8).item(0) + c.column(8).item(0) + d.column(8).item(0) + e.column(8).item(0) + f.column(8).item(0)\n",
    "    table[i]['理综'] = table[i]['理综'] + a.column(9).item(0) + b.column(9).item(0) + c.column(9).item(0) + d.column(9).item(0) + e.column(9).item(0) + f.column(9).item(0)\n",
    "    table[i]['总分'] = table[i]['总分'] + a.column(10).item(0) + b.column(10).item(0) + c.column(10).item(0) + d.column(10).item(0) + e.column(10).item(0) + f.column(10).item(0)\n",
    "    \n",
    "Chinese = []\n",
    "Math = []\n",
    "English = []\n",
    "Physics = []\n",
    "Chemistry = []\n",
    "Creature = []\n",
    "Straightforward = []\n",
    "Sum = []\n",
    "for i in table.keys():\n",
    "    Chinese.append((i,table[i]['语文']))\n",
    "    Math.append((i,table[i]['数学']))\n",
    "    English.append((i,table[i]['英语']))\n",
    "    Physics.append((i,table[i]['物理']))\n",
    "    Chemistry.append((i,table[i]['化学']))\n",
    "    Creature.append((i,table[i]['生物']))\n",
    "    Straightforward.append((i, table[i]['理综']))\n",
    "    Sum.append((i,table[i]['总分']))\n",
    "    \n",
    "Chinese_sort = sorted(Chinese, key=lambda x: x[1], reverse=True)[0:5]\n",
    "Math_sort = sorted(Math, key=lambda x: x[1], reverse=True)[0:5]\n",
    "English_sort = sorted(English, key=lambda x: x[1], reverse=True)[0:5]\n",
    "Physics_sort = sorted(Physics, key=lambda x: x[1], reverse=True)[0:5]\n",
    "Chemistry_sort = sorted(Chemistry, key=lambda x: x[1], reverse=True)[0:5]\n",
    "Creature_sort = sorted(Creature, key=lambda x: x[1], reverse=True)[0:5]\n",
    "Straightforward_sort = sorted(Straightforward, key=lambda x: x[1], reverse=True)[0:5]\n",
    "Sum_sort= sorted(Sum, key=lambda x: x[1], reverse=True)[0:5]\n",
    "\n",
    "Chinese_sort\n",
    "    "
   ]
  },
  {
   "cell_type": "code",
   "execution_count": 2,
   "id": "321b8ef2",
   "metadata": {},
   "outputs": [
    {
     "data": {
      "text/plain": [
       "[('王凤仪', 736), ('杨靖鑫', 661), ('陈文慧', 643), ('赵丹', 625), ('胥敏捷', 611)]"
      ]
     },
     "execution_count": 2,
     "metadata": {},
     "output_type": "execute_result"
    }
   ],
   "source": [
    "Math_sort"
   ]
  },
  {
   "cell_type": "code",
   "execution_count": 3,
   "id": "b0e33b64",
   "metadata": {},
   "outputs": [
    {
     "data": {
      "text/plain": [
       "[('唐杰', 729), ('张然', 728), ('潘虓虓', 710), ('黄思哲', 693), ('何柃逸', 685)]"
      ]
     },
     "execution_count": 3,
     "metadata": {},
     "output_type": "execute_result"
    }
   ],
   "source": [
    "English_sort"
   ]
  },
  {
   "cell_type": "code",
   "execution_count": 4,
   "id": "2c0f3a70",
   "metadata": {},
   "outputs": [
    {
     "data": {
      "text/plain": [
       "[('杨靖鑫', 491), ('刘翔', 486), ('王绍玮', 464), ('潘虓虓', 452), ('王宣', 450)]"
      ]
     },
     "execution_count": 4,
     "metadata": {},
     "output_type": "execute_result"
    }
   ],
   "source": [
    "Physics_sort"
   ]
  },
  {
   "cell_type": "code",
   "execution_count": 5,
   "id": "8c0a5e86",
   "metadata": {},
   "outputs": [
    {
     "data": {
      "text/plain": [
       "[('杨靖鑫', 476), ('王绍玮', 466), ('胥敏捷', 460), ('何柃逸', 455), ('王凤仪', 447)]"
      ]
     },
     "execution_count": 5,
     "metadata": {},
     "output_type": "execute_result"
    }
   ],
   "source": [
    "Creature_sort"
   ]
  },
  {
   "cell_type": "code",
   "execution_count": 6,
   "id": "28917ed5",
   "metadata": {},
   "outputs": [
    {
     "data": {
      "text/plain": [
       "[('刘翔', 1445), ('杨靖鑫', 1443), ('王绍玮', 1371), ('王宣', 1330), ('潘虓虓', 1305)]"
      ]
     },
     "execution_count": 6,
     "metadata": {},
     "output_type": "execute_result"
    }
   ],
   "source": [
    "Straightforward_sort"
   ]
  },
  {
   "cell_type": "code",
   "execution_count": 7,
   "id": "3c4dacc1",
   "metadata": {},
   "outputs": [
    {
     "data": {
      "text/plain": [
       "[('王凤仪', 3374), ('杨靖鑫', 3352), ('潘虓虓', 3284), ('刘翔', 3274), ('王绍玮', 3238)]"
      ]
     },
     "execution_count": 7,
     "metadata": {},
     "output_type": "execute_result"
    }
   ],
   "source": [
    "Sum_sort"
   ]
  },
  {
   "cell_type": "code",
   "execution_count": null,
   "id": "e31b3f18",
   "metadata": {},
   "outputs": [],
   "source": []
  }
 ],
 "metadata": {
  "kernelspec": {
   "display_name": "Python 3 (ipykernel)",
   "language": "python",
   "name": "python3"
  },
  "language_info": {
   "codemirror_mode": {
    "name": "ipython",
    "version": 3
   },
   "file_extension": ".py",
   "mimetype": "text/x-python",
   "name": "python",
   "nbconvert_exporter": "python",
   "pygments_lexer": "ipython3",
   "version": "3.9.13"
  }
 },
 "nbformat": 4,
 "nbformat_minor": 5
}
